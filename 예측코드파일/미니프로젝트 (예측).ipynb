{
 "cells": [
  {
   "cell_type": "code",
   "execution_count": 2,
   "metadata": {},
   "outputs": [],
   "source": [
    "import pandas as pd"
   ]
  },
  {
   "cell_type": "code",
   "execution_count": 3,
   "metadata": {},
   "outputs": [
    {
     "name": "stdout",
     "output_type": "stream",
     "text": [
      "성동구\n"
     ]
    }
   ],
   "source": [
    "df = pd.read_csv('C:/data/miniproject/finaldata.csv')\n",
    "a = input()\n",
    "df_region = df[df['구']==a]\n",
    "print(a)"
   ]
  },
  {
   "cell_type": "code",
   "execution_count": 4,
   "metadata": {},
   "outputs": [
    {
     "name": "stderr",
     "output_type": "stream",
     "text": [
      "C:\\Users\\tjoeun\\AppData\\Local\\Temp\\ipykernel_23172\\3485181508.py:2: SettingWithCopyWarning: \n",
      "A value is trying to be set on a copy of a slice from a DataFrame\n",
      "\n",
      "See the caveats in the documentation: https://pandas.pydata.org/pandas-docs/stable/user_guide/indexing.html#returning-a-view-versus-a-copy\n",
      "  df_region.rename(columns={'주택담보대출(연%)':'주택담보대출',\n"
     ]
    }
   ],
   "source": [
    "# 전처리\n",
    "df_region.rename(columns={'주택담보대출(연%)':'주택담보대출',\n",
    "                        '소비자물가지수(전월 대비 증감률)':'소비자물가지수증감률',\n",
    "                        '  KOSPI_종가':'KOSPI_종가',\n",
    "                        '  KOSDAQ_종가':'KOSDAQ_종가',\n",
    "                        '  무담보콜금리(1일)':'무담보콜금리',\n",
    "                        'KORIBOR(3개월)':'KORIBOR',\n",
    "                        'CD(91일)':'CD',\n",
    "                        '국고채(1년)':'국고채_1년',\n",
    "                        '국고채(10년)':'국고채_10년'},\n",
    "                        inplace=True)"
   ]
  },
  {
   "cell_type": "code",
   "execution_count": null,
   "metadata": {},
   "outputs": [],
   "source": [
    "df_time = df_region.groupby('년월')[['전용면적', '층', '건축년도', '계약년', '계약월',\n",
    "       '주택담보대출', '미국달러', '일본엔', '유로',\n",
    "       'KOSPI_종가', 'KOSDAQ_종가', '무담보콜금리', 'KORIBOR', 'CD',\n",
    "       '국고채_1년', '국고채_10년','면적당가격','년월']].mean()"
   ]
  },
  {
   "cell_type": "code",
   "execution_count": null,
   "metadata": {},
   "outputs": [],
   "source": [
    "X = df_time[['전용면적', '층', '건축년도','KOSPI_종가', '미국달러', '일본엔', '유로', 'KOSDAQ_종가','계약월']]\n",
    "y = df_time['면적당가격']"
   ]
  },
  {
   "cell_type": "code",
   "execution_count": null,
   "metadata": {},
   "outputs": [],
   "source": [
    "df_time[df_time['년월'] == 202301]['면적당가격'].mean()"
   ]
  },
  {
   "cell_type": "code",
   "execution_count": null,
   "metadata": {},
   "outputs": [],
   "source": [
    "# linearRegression 회귀방법\n",
    "from sklearn.linear_model import LinearRegression\n",
    "from sklearn.model_selection import train_test_split\n",
    "\n",
    "X_train, X_test, y_train, y_test = train_test_split(X, y, test_size=0.3, random_state=10)\n",
    "model = LinearRegression().fit(X_train, y_train)\n",
    "\n",
    "print(\"학습용 : \", model.score(X_train, y_train))\n",
    "print(\"검증용 : \", model.score(X_test, y_test))\n",
    "predict = model.predict([[85.5, 9, 2020,2425.08, 1228.7, 9.4222, 1332.83, 740.49,5]])\n",
    "predict"
   ]
  },
  {
   "cell_type": "code",
   "execution_count": null,
   "metadata": {},
   "outputs": [],
   "source": [
    "# DecisionTreeRegressor 회귀방법\n",
    "from sklearn.tree import DecisionTreeRegressor\n",
    "from sklearn.model_selection import train_test_split\n",
    "predict2 = []\n",
    "for i in range(0,1000):\n",
    "    X_train, X_test, y_train, y_test = train_test_split(X, y, test_size=0.3, random_state=10)\n",
    "    model = DecisionTreeRegressor().fit(X_train, y_train)\n",
    "    predict = model.predict([[85.5, 9, 2020,2425.08, 1228.7, 9.4222, 1332.83, 740.49,5]])\n",
    "    predict2.append(predict[0])\n",
    "print(\"학습용 : \", model.score(X_train, y_train))\n",
    "print(\"검증용 : \", model.score(X_test, y_test))\n",
    "print(\"예측값 : \",sum(predict2)/len(predict2))"
   ]
  },
  {
   "cell_type": "code",
   "execution_count": null,
   "metadata": {},
   "outputs": [],
   "source": [
    "# RandomForestRegressor 회귀방법\n",
    "from sklearn.ensemble import RandomForestRegressor\n",
    "from sklearn.model_selection import train_test_split\n",
    "predict3 = []\n",
    "for i in range(0,1000):\n",
    "    X_train, X_test, y_train, y_test = train_test_split(X, y, test_size=0.3, random_state=10)\n",
    "    model = RandomForestRegressor(n_jobs = -1).fit(X_train, y_train)\n",
    "    predict = model.predict([[85.5, 9, 2020,2425.08, 1228.7, 9.4222, 1332.83, 740.49,5]])\n",
    "    predict3.append(predict[0])\n",
    "print(\"학습용 : \", model.score(X_train, y_train))\n",
    "print(\"검증용 : \", model.score(X_test, y_test))\n",
    "print(\"예측값 : \",sum(predict3)/len(predict3))"
   ]
  }
 ],
 "metadata": {
  "kernelspec": {
   "display_name": "base",
   "language": "python",
   "name": "python3"
  },
  "language_info": {
   "codemirror_mode": {
    "name": "ipython",
    "version": 3
   },
   "file_extension": ".py",
   "mimetype": "text/x-python",
   "name": "python",
   "nbconvert_exporter": "python",
   "pygments_lexer": "ipython3",
   "version": "3.9.13"
  },
  "orig_nbformat": 4
 },
 "nbformat": 4,
 "nbformat_minor": 2
}
